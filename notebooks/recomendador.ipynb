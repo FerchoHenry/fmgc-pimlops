{
 "cells": [
  {
   "cell_type": "code",
   "execution_count": 2,
   "metadata": {},
   "outputs": [],
   "source": [
    "import pandas as pd\n",
    "from sklearn.feature_extraction.text import TfidfVectorizer\n",
    "from sklearn.metrics.pairwise import cosine_similarity"
   ]
  },
  {
   "cell_type": "code",
   "execution_count": 15,
   "metadata": {},
   "outputs": [],
   "source": [
    "df = pd.read_parquet(\"../data/movies_etl4.parquet\")"
   ]
  },
  {
   "cell_type": "code",
   "execution_count": 287,
   "metadata": {},
   "outputs": [
    {
     "data": {
      "text/plain": [
       "45466"
      ]
     },
     "execution_count": 287,
     "metadata": {},
     "output_type": "execute_result"
    }
   ],
   "source": [
    "len(df)"
   ]
  },
  {
   "cell_type": "code",
   "execution_count": 288,
   "metadata": {},
   "outputs": [],
   "source": [
    "df100 = df.copy()"
   ]
  },
  {
   "cell_type": "code",
   "execution_count": 267,
   "metadata": {},
   "outputs": [],
   "source": [
    "#pruebo usando solo los 100 primeras peliculas\n",
    "df100 = df[1:5000]"
   ]
  },
  {
   "cell_type": "code",
   "execution_count": 289,
   "metadata": {},
   "outputs": [],
   "source": [
    "# elimino las filas cuyo valores en la columna overview es NAN\n",
    "df100 = df100.dropna(subset=['overview'])"
   ]
  },
  {
   "cell_type": "code",
   "execution_count": 290,
   "metadata": {},
   "outputs": [],
   "source": [
    "df100 = df100.reset_index(drop=True)"
   ]
  },
  {
   "cell_type": "code",
   "execution_count": 291,
   "metadata": {},
   "outputs": [],
   "source": [
    "# Paso 1: Crear la matriz TF-IDF basada en la columna de 'review'\n",
    "tfidf = TfidfVectorizer(stop_words='english')  # Elimina palabras comunes en inglés\n",
    "tfidf_matrix = tfidf.fit_transform(df100['overview'])\n"
   ]
  },
  {
   "cell_type": "code",
   "execution_count": 292,
   "metadata": {},
   "outputs": [],
   "source": [
    "# Paso 2: Calcular la similitud del coseno basada en las reseñas\n",
    "cosine_sim = cosine_similarity(tfidf_matrix, tfidf_matrix)\n",
    "\n",
    "# Función para recomendar películas\n",
    "def recommend_movies(title, cosine_sim=cosine_sim):\n",
    "    # Obtener el índice de la película que coincide con el título\n",
    "    idx = df100[df100['title'].str.lower() == title.lower()].index[0]\n",
    "    \n",
    "    # Obtener las puntuaciones de similitud de coseno de esa película con todas las demás\n",
    "    sim_scores = list(enumerate(cosine_sim[idx]))\n",
    "\n",
    "    # Ordenar las películas basadas en las puntuaciones de similitud\n",
    "    sim_scores = sorted(sim_scores, key=lambda x: x[1], reverse=True)\n",
    "\n",
    "    # Obtener los índices de las películas más similares\n",
    "    sim_scores = sim_scores[:6]  # Obtener las 5 más similares ,(se deja la primera para control)\n",
    "\n",
    "    # Obtener los títulos de las películas más similares\n",
    "    movie_indices = [i[0] for i in sim_scores]\n",
    "    return df100['title'].iloc[movie_indices]\n"
   ]
  },
  {
   "cell_type": "code",
   "execution_count": 303,
   "metadata": {},
   "outputs": [
    {
     "name": "stdout",
     "output_type": "stream",
     "text": [
      "Películas recomendadas para 'toy story':\n",
      " 0                          Toy Story\n",
      "15275                    Toy Story 3\n",
      "2977                     Toy Story 2\n",
      "10266         The 40 Year Old Virgin\n",
      "24289                      Small Fry\n",
      "23621    Andy Hardy's Blonde Trouble\n",
      "Name: title, dtype: object\n"
     ]
    }
   ],
   "source": [
    "# Probar el recomendador\n",
    "movie_to_recommend = \"toy story\"\n",
    "recommendations = recommend_movies(movie_to_recommend)\n",
    "print(f\"Películas recomendadas para '{movie_to_recommend}':\\n\", recommendations)"
   ]
  },
  {
   "cell_type": "code",
   "execution_count": 304,
   "metadata": {},
   "outputs": [
    {
     "name": "stdout",
     "output_type": "stream",
     "text": [
      "Películas recomendadas para 'rambo':\n",
      " 12317                         Rambo\n",
      "2270                    First Blood\n",
      "2271                      Rambo III\n",
      "2269     Rambo: First Blood Part II\n",
      "37503        Chrome and Hot Leather\n",
      "33366                      Freetown\n",
      "Name: title, dtype: object\n"
     ]
    }
   ],
   "source": [
    "# Probar el recomendador\n",
    "movie_to_recommend = \"rambo\"\n",
    "recommendations = recommend_movies(movie_to_recommend)\n",
    "print(f\"Películas recomendadas para '{movie_to_recommend}':\\n\", recommendations)"
   ]
  },
  {
   "cell_type": "code",
   "execution_count": 305,
   "metadata": {},
   "outputs": [
    {
     "name": "stdout",
     "output_type": "stream",
     "text": [
      "Películas recomendadas para 'batman':\n",
      " 583                                  Batman\n",
      "9198     Batman Beyond: Return of the Joker\n",
      "18133                 The Dark Knight Rises\n",
      "25025                     Batman vs Dracula\n",
      "15437            Batman: Under the Red Hood\n",
      "41109                 DC Showcase: Catwoman\n",
      "Name: title, dtype: object\n"
     ]
    }
   ],
   "source": [
    "# Probar el recomendador\n",
    "movie_to_recommend = \"batman\"\n",
    "recommendations = recommend_movies(movie_to_recommend)\n",
    "print(f\"Películas recomendadas para '{movie_to_recommend}':\\n\", recommendations)"
   ]
  },
  {
   "cell_type": "code",
   "execution_count": 150,
   "metadata": {},
   "outputs": [
    {
     "data": {
      "text/plain": [
       "np.int64(1)"
      ]
     },
     "execution_count": 150,
     "metadata": {},
     "output_type": "execute_result"
    }
   ],
   "source": [
    "idx= df100[df100['title'] == \"Jumanji\"].index[0]\n",
    "idx"
   ]
  },
  {
   "cell_type": "code",
   "execution_count": 202,
   "metadata": {},
   "outputs": [
    {
     "data": {
      "text/plain": [
       "98"
      ]
     },
     "execution_count": 202,
     "metadata": {},
     "output_type": "execute_result"
    }
   ],
   "source": [
    "len(df100['title'])"
   ]
  },
  {
   "cell_type": "code",
   "execution_count": 302,
   "metadata": {},
   "outputs": [
    {
     "data": {
      "text/plain": [
       "np.int64(44426)"
      ]
     },
     "execution_count": 302,
     "metadata": {},
     "output_type": "execute_result"
    }
   ],
   "source": [
    "#con -1\n",
    "idx= df100[df100['title'] == \"Queerama\"].index[0]\n",
    "idx"
   ]
  },
  {
   "cell_type": "code",
   "execution_count": 163,
   "metadata": {},
   "outputs": [
    {
     "ename": "IndexError",
     "evalue": "index 98 is out of bounds for axis 0 with size 98",
     "output_type": "error",
     "traceback": [
      "\u001b[1;31m---------------------------------------------------------------------------\u001b[0m",
      "\u001b[1;31mIndexError\u001b[0m                                Traceback (most recent call last)",
      "Cell \u001b[1;32mIn[163], line 1\u001b[0m\n\u001b[1;32m----> 1\u001b[0m sim_scores \u001b[38;5;241m=\u001b[39m \u001b[38;5;28mlist\u001b[39m(\u001b[38;5;28menumerate\u001b[39m(\u001b[43mcosine_sim\u001b[49m\u001b[43m[\u001b[49m\u001b[38;5;241;43m98\u001b[39;49m\u001b[43m]\u001b[49m))\n\u001b[0;32m      2\u001b[0m sim_scores\n",
      "\u001b[1;31mIndexError\u001b[0m: index 98 is out of bounds for axis 0 with size 98"
     ]
    }
   ],
   "source": [
    "sim_scores = list(enumerate(cosine_sim[98]))\n",
    "sim_scores"
   ]
  },
  {
   "cell_type": "code",
   "execution_count": 140,
   "metadata": {},
   "outputs": [],
   "source": [
    "sim_scores = sorted(sim_scores, key=lambda x: x[1], reverse=True)"
   ]
  },
  {
   "cell_type": "code",
   "execution_count": 82,
   "metadata": {},
   "outputs": [
    {
     "data": {
      "text/plain": [
       "array([0., 1., 0., 0., 0., 0., 0., 0., 0., 0., 0., 0., 0., 0., 0., 0., 0.,\n",
       "       0., 0.])"
      ]
     },
     "execution_count": 82,
     "metadata": {},
     "output_type": "execute_result"
    }
   ],
   "source": [
    "cosine_sim[idx]"
   ]
  },
  {
   "cell_type": "code",
   "execution_count": 285,
   "metadata": {},
   "outputs": [
    {
     "data": {
      "text/plain": [
       "<bound method NDFrame.tail of 0                           Jumanji\n",
       "1                  Grumpier Old Men\n",
       "2                 Waiting to Exhale\n",
       "3       Father of the Bride Part II\n",
       "4                              Heat\n",
       "                   ...             \n",
       "3972                     Innerspace\n",
       "3973                       Ironweed\n",
       "3974                         Ishtar\n",
       "3975              Jaws: The Revenge\n",
       "3976                 Leonard Part 6\n",
       "Name: title, Length: 3977, dtype: object>"
      ]
     },
     "execution_count": 285,
     "metadata": {},
     "output_type": "execute_result"
    }
   ],
   "source": [
    "df100['title'].tail"
   ]
  },
  {
   "cell_type": "code",
   "execution_count": 232,
   "metadata": {},
   "outputs": [
    {
     "data": {
      "text/plain": [
       "'Grumpier Old Men'"
      ]
     },
     "execution_count": 232,
     "metadata": {},
     "output_type": "execute_result"
    }
   ],
   "source": [
    "df100['title'].iloc[1]"
   ]
  },
  {
   "cell_type": "code",
   "execution_count": 230,
   "metadata": {},
   "outputs": [
    {
     "data": {
      "text/plain": [
       "'Sudden Death'"
      ]
     },
     "execution_count": 230,
     "metadata": {},
     "output_type": "execute_result"
    }
   ],
   "source": [
    "df100['title'].iloc[7]"
   ]
  },
  {
   "cell_type": "code",
   "execution_count": 299,
   "metadata": {},
   "outputs": [
    {
     "data": {
      "text/plain": [
       "44427"
      ]
     },
     "execution_count": 299,
     "metadata": {},
     "output_type": "execute_result"
    }
   ],
   "source": [
    "len(df100)"
   ]
  },
  {
   "cell_type": "code",
   "execution_count": 301,
   "metadata": {},
   "outputs": [
    {
     "data": {
      "text/plain": [
       "'Queerama'"
      ]
     },
     "execution_count": 301,
     "metadata": {},
     "output_type": "execute_result"
    }
   ],
   "source": [
    "df100['title'].iloc[44426]"
   ]
  },
  {
   "cell_type": "code",
   "execution_count": 141,
   "metadata": {},
   "outputs": [
    {
     "data": {
      "text/plain": [
       "[(0, np.float64(1.0000000000000004)),\n",
       " (7, np.float64(0.12879632119983564)),\n",
       " (94, np.float64(0.0711393059931379)),\n",
       " (4, np.float64(0.06170452500020561)),\n",
       " (1, np.float64(0.05089370887718996)),\n",
       " (41, np.float64(0.03804209394347766)),\n",
       " (83, np.float64(0.03749775535042215)),\n",
       " (24, np.float64(0.036732197949110944)),\n",
       " (30, np.float64(0.03343277384334443)),\n",
       " (50, np.float64(0.033041541066962915)),\n",
       " (16, np.float64(0.031782847181652474)),\n",
       " (25, np.float64(0.02641536199368722)),\n",
       " (60, np.float64(0.02239782728109338)),\n",
       " (62, np.float64(0.02139502421308186)),\n",
       " (44, np.float64(0.020963264394590363)),\n",
       " (47, np.float64(0.019364395401475314)),\n",
       " (92, np.float64(0.01877971170754446)),\n",
       " (87, np.float64(0.01851600718380976)),\n",
       " (91, np.float64(0.018386956987799984)),\n",
       " (26, np.float64(0.016804863978154123)),\n",
       " (75, np.float64(0.016026854666819274)),\n",
       " (95, np.float64(0.014651379260806788)),\n",
       " (70, np.float64(0.014257794354200728)),\n",
       " (12, np.float64(0.013094863721552486)),\n",
       " (9, np.float64(0.013084220668184864)),\n",
       " (45, np.float64(0.011595163071882039)),\n",
       " (63, np.float64(0.01143951800898641)),\n",
       " (21, np.float64(0.010011244278644074)),\n",
       " (31, np.float64(0.009251882199049086)),\n",
       " (79, np.float64(0.009140372181468228)),\n",
       " (48, np.float64(0.008674649822888503)),\n",
       " (80, np.float64(0.00820344787130233)),\n",
       " (32, np.float64(0.008176931060883614)),\n",
       " (2, np.float64(0.0)),\n",
       " (3, np.float64(0.0)),\n",
       " (5, np.float64(0.0)),\n",
       " (6, np.float64(0.0)),\n",
       " (8, np.float64(0.0)),\n",
       " (10, np.float64(0.0)),\n",
       " (11, np.float64(0.0)),\n",
       " (13, np.float64(0.0)),\n",
       " (14, np.float64(0.0)),\n",
       " (15, np.float64(0.0)),\n",
       " (17, np.float64(0.0)),\n",
       " (18, np.float64(0.0)),\n",
       " (19, np.float64(0.0)),\n",
       " (20, np.float64(0.0)),\n",
       " (22, np.float64(0.0)),\n",
       " (23, np.float64(0.0)),\n",
       " (27, np.float64(0.0)),\n",
       " (28, np.float64(0.0)),\n",
       " (29, np.float64(0.0)),\n",
       " (33, np.float64(0.0)),\n",
       " (34, np.float64(0.0)),\n",
       " (35, np.float64(0.0)),\n",
       " (36, np.float64(0.0)),\n",
       " (37, np.float64(0.0)),\n",
       " (38, np.float64(0.0)),\n",
       " (39, np.float64(0.0)),\n",
       " (40, np.float64(0.0)),\n",
       " (42, np.float64(0.0)),\n",
       " (43, np.float64(0.0)),\n",
       " (46, np.float64(0.0)),\n",
       " (49, np.float64(0.0)),\n",
       " (51, np.float64(0.0)),\n",
       " (52, np.float64(0.0)),\n",
       " (53, np.float64(0.0)),\n",
       " (54, np.float64(0.0)),\n",
       " (55, np.float64(0.0)),\n",
       " (56, np.float64(0.0)),\n",
       " (57, np.float64(0.0)),\n",
       " (58, np.float64(0.0)),\n",
       " (59, np.float64(0.0)),\n",
       " (61, np.float64(0.0)),\n",
       " (64, np.float64(0.0)),\n",
       " (65, np.float64(0.0)),\n",
       " (66, np.float64(0.0)),\n",
       " (67, np.float64(0.0)),\n",
       " (68, np.float64(0.0)),\n",
       " (69, np.float64(0.0)),\n",
       " (71, np.float64(0.0)),\n",
       " (72, np.float64(0.0)),\n",
       " (73, np.float64(0.0)),\n",
       " (74, np.float64(0.0)),\n",
       " (76, np.float64(0.0)),\n",
       " (77, np.float64(0.0)),\n",
       " (78, np.float64(0.0)),\n",
       " (81, np.float64(0.0)),\n",
       " (82, np.float64(0.0)),\n",
       " (84, np.float64(0.0)),\n",
       " (85, np.float64(0.0)),\n",
       " (86, np.float64(0.0)),\n",
       " (88, np.float64(0.0)),\n",
       " (89, np.float64(0.0)),\n",
       " (90, np.float64(0.0)),\n",
       " (93, np.float64(0.0)),\n",
       " (96, np.float64(0.0)),\n",
       " (97, np.float64(0.0))]"
      ]
     },
     "execution_count": 141,
     "metadata": {},
     "output_type": "execute_result"
    }
   ],
   "source": [
    "sim_scores"
   ]
  }
 ],
 "metadata": {
  "kernelspec": {
   "display_name": "p1env",
   "language": "python",
   "name": "python3"
  },
  "language_info": {
   "codemirror_mode": {
    "name": "ipython",
    "version": 3
   },
   "file_extension": ".py",
   "mimetype": "text/x-python",
   "name": "python",
   "nbconvert_exporter": "python",
   "pygments_lexer": "ipython3",
   "version": "3.11.9"
  }
 },
 "nbformat": 4,
 "nbformat_minor": 2
}
