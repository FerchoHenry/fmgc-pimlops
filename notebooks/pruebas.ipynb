{
 "cells": [
  {
   "cell_type": "code",
   "execution_count": 4,
   "metadata": {},
   "outputs": [],
   "source": [
    "import pandas as pd"
   ]
  },
  {
   "cell_type": "code",
   "execution_count": 13,
   "metadata": {},
   "outputs": [
    {
     "name": "stdout",
     "output_type": "stream",
     "text": [
      "La película Batman fue estrenada en el año 1989.0 con un score/popularidad de 19.10673\n"
     ]
    }
   ],
   "source": [
    "titulo = input(\"ingrese una pelicula: \")\n",
    "#paso todo a \n",
    "film = df[df['title'].str.lower() == titulo.lower()]\n",
    "    \n",
    "if film.empty:\n",
    "    print (\"error : Película no encontrada\")\n",
    "\n",
    "#si arroja mas de un resultado me quedo con la primera    \n",
    "film_info = film.iloc[0]\n",
    " \n",
    "#print(film_info)    \n",
    "print(f\"La película {film_info['title']} fue estrenada en el año {film_info['release_year']} con un score/popularidad de {film_info['popularity']}\")\n"
   ]
  },
  {
   "cell_type": "code",
   "execution_count": 24,
   "metadata": {},
   "outputs": [
    {
     "name": "stdout",
     "output_type": "stream",
     "text": [
      " la peli Toy Story es del año 1995.0 tiene agregar film_info['vote_count']votos y promedia7.7\n"
     ]
    }
   ],
   "source": [
    "titulo = input(\"ingrese una pelicula: \")\n",
    "\n",
    "filma = df[df['title'].str.lower() == titulo.lower()]\n",
    "    \n",
    "if film.empty:\n",
    "    print (\"Película no encontrada\")\n",
    "    \n",
    "film_info = filma.iloc[0]\n",
    "    \n",
    "#if film_info['vote_count'] < 2000:\n",
    "#    print (\"La película no cumple con el mínimo de 2000 valoraciones.\")\n",
    "    \n",
    "print ( f\" la peli {film_info['title']} es del año {film_info['release_year']} tiene agregar film_info['vote_count']votos y promedia{film_info['vote_average']}\")"
   ]
  },
  {
   "cell_type": "code",
   "execution_count": 21,
   "metadata": {},
   "outputs": [
    {
     "name": "stdout",
     "output_type": "stream",
     "text": [
      "        collection_name      budget original_language  popularity  \\\n",
      "0  Toy Story Collection  30000000.0                en   21.946943   \n",
      "\n",
      "  release_date      revenue  runtime      title  vote_average  release_year  \\\n",
      "0   1995-10-30  373554033.0     81.0  Toy Story           7.7        1995.0   \n",
      "\n",
      "      return genre_name1 genre_name0            companie_name  \\\n",
      "0  12.451801      Comedy   Animation  Pixar Animation Studios   \n",
      "\n",
      "                    country   spoken  \n",
      "0  United States of America  English  \n"
     ]
    }
   ],
   "source": [
    "titulo = input(\"ingrese una pelicula: \")\n",
    "\n",
    "filma = df[df['title'].str.lower() == titulo.lower()]\n",
    "print(filma)"
   ]
  },
  {
   "cell_type": "code",
   "execution_count": 23,
   "metadata": {},
   "outputs": [
    {
     "data": {
      "text/plain": [
       "Index(['collection_name', 'budget', 'original_language', 'popularity',\n",
       "       'release_date', 'revenue', 'runtime', 'title', 'vote_average',\n",
       "       'release_year', 'return', 'genre_name1', 'genre_name0', 'companie_name',\n",
       "       'country', 'spoken'],\n",
       "      dtype='object')"
      ]
     },
     "execution_count": 23,
     "metadata": {},
     "output_type": "execute_result"
    }
   ],
   "source": [
    "filma.columns"
   ]
  },
  {
   "cell_type": "code",
   "execution_count": 5,
   "metadata": {},
   "outputs": [],
   "source": [
    "df = pd.read_parquet('../data/movies_etl.parquet2')"
   ]
  },
  {
   "cell_type": "code",
   "execution_count": 16,
   "metadata": {},
   "outputs": [
    {
     "name": "stdout",
     "output_type": "stream",
     "text": [
      " La pelicula Batman fue estrenada en el año  1989. La misma cuenta con un total de agregar 2145 valoraciones, con un promedio de 7.0\n"
     ]
    }
   ],
   "source": [
    "    titulo = input(\"ingrese pellicula\")\n",
    "    film = df[df['title'].str.lower() == titulo.lower()]\n",
    "    \n",
    "    #si arroja mas de un resultado me quedo con la primera\n",
    "    film_info = film.iloc[0]\n",
    "    \n",
    "    if film_info['vote_count'] < 2000:\n",
    "        print(\"La película no cumple con el mínimo de 2000 valoraciones.\")\n",
    "    \n",
    "    print( f\" La pelicula {film_info['title']} fue estrenada en el año {film_info['release_year']: .0f}. La misma cuenta con un total de agregar {film_info['vote_count']:.0f} valoraciones, con un promedio de {film_info['vote_average']}\")\n",
    "       "
   ]
  }
 ],
 "metadata": {
  "kernelspec": {
   "display_name": "p1env",
   "language": "python",
   "name": "python3"
  },
  "language_info": {
   "codemirror_mode": {
    "name": "ipython",
    "version": 3
   },
   "file_extension": ".py",
   "mimetype": "text/x-python",
   "name": "python",
   "nbconvert_exporter": "python",
   "pygments_lexer": "ipython3",
   "version": "3.11.9"
  }
 },
 "nbformat": 4,
 "nbformat_minor": 2
}
